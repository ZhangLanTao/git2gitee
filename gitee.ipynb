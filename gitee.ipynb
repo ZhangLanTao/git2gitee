{
 "cells": [
  {
   "cell_type": "code",
   "execution_count": 1,
   "metadata": {},
   "outputs": [],
   "source": [
    "import re\n",
    "import os\n",
    "\n",
    "import json\n",
    "import requests\n",
    "\n",
    "from git2gitee.util import encrypt_pwd"
   ]
  },
  {
   "cell_type": "code",
   "execution_count": 5,
   "metadata": {},
   "outputs": [],
   "source": [
    "\"\"\"\n",
    "configs \n",
    "配置 gitee 用户名，密码。**不要邮箱**\n",
    "    以及要导入的github 仓库的 url\n",
    "\"\"\"\n",
    "username = 'mikele'\n",
    "password = os.getenv('gitee_password')\n",
    "payload_check_login = {'user_login': username}\n",
    "repo_url = 'https://github.com/toyourheart163/git2gitee'"
   ]
  },
  {
   "cell_type": "code",
   "execution_count": 4,
   "metadata": {},
   "outputs": [],
   "source": [
    "raw_headers = \"\"\"DNT: 1\n",
    "User-Agent: Mozilla/5.0 (Macintosh; Intel Mac OS X 10.15; rv:75.0) Gecko/20100101 Firefox/75.0\n",
    "Accept-Language: en-US,en;q=0.7,zh-CN;q=0.3\n",
    "Upgrade-Insecure-Requests: 1\n",
    "\"\"\"\n",
    "\n",
    "'''utils.py'''\n",
    "def parse_head(raw_headers):\n",
    "    headers = {}\n",
    "    for row in raw_headers.splitlines():\n",
    "        k, v = row.split(': ')\n",
    "        headers[k] = v\n",
    "    return headers\n",
    "\n",
    "def parse_token(response):\n",
    "    result = re.search('<meta content=\"(.*?)\" name=\"csrf-token\"', response.text)\n",
    "    return result.group(1)"
   ]
  },
  {
   "cell_type": "code",
   "execution_count": 3,
   "metadata": {},
   "outputs": [],
   "source": [
    "s = requests.Session()\n",
    "\n",
    "base_url = 'https://gitee.com/'\n",
    "login_url = base_url + 'login'\n",
    "headers = parse_head(raw_headers)\n",
    "\n",
    "# get login page, parse token\n",
    "resp_get_login = s.get(login_url, headers=headers)\n",
    "token = parse_token(resp_get_login)\n",
    "\n",
    "# parse public key, generate encrypt password\n",
    "public_key = json.loads(re.search('gon.encrypt=(.*?);', resp_get_login.text).group(1))['password_key']\n",
    "encrypt_data = encrypt_pwd(token + '$gitee$' + password, public_key)"
   ]
  },
  {
   "cell_type": "code",
   "execution_count": 10,
   "metadata": {},
   "outputs": [],
   "source": [
    "# check login account\n",
    "check_login = False\n",
    "if check_login:\n",
    "    url_check_login = base_url + 'check_user_login'\n",
    "    r_check_login = s.post(url_check_login, data=payload_check_login, headers=headers)\n",
    "    r_check_login.text"
   ]
  },
  {
   "cell_type": "code",
   "execution_count": 11,
   "metadata": {},
   "outputs": [
    {
     "name": "stdout",
     "output_type": "stream",
     "text": [
      "200 True\n"
     ]
    }
   ],
   "source": [
    "# post login page\n",
    "\n",
    "login_payload = {\n",
    "    'encrypt_key': 'password',\n",
    "    'utf-8': '✓',\n",
    "    'authenticity_token': token,\n",
    "    'redirect_to_url': '',\n",
    "    'user[login]': username,\n",
    "    'user[remember_me]': '0',\n",
    "    'encrypt_data[user[password]]': encrypt_data}\n",
    "\n",
    "resp_login = s.post(login_url, data=login_payload, headers=headers)\n",
    "print(resp_login.status_code, 'mikele' in resp_login.text)"
   ]
  },
  {
   "cell_type": "code",
   "execution_count": 12,
   "metadata": {},
   "outputs": [],
   "source": [
    "url_project = base_url + 'projects/'\n",
    "url_project_import = url_project + 'import/url'\n",
    "resp_get_project_import = s.get(url_project_import, headers=headers)\n",
    "token = parse_token(resp_get_project_import)\n",
    "\n",
    "check_duplicate = False\n",
    "check_private = False\n",
    "\n",
    "check_repo_payload = {'import_url': repo_url}\n",
    "\n",
    "if check_duplicate:\n",
    "    url_check_project_duplicate = url_project + 'check_project_duplicate'\n",
    "    r_check_duplicate = s.get(\n",
    "        url_check_project_duplicate, params=check_repo_payload, headers=new_headers)\n",
    "    r_check_duplicate.json()\n",
    "\n",
    "if check_private:\n",
    "    url_check_project_private = url_project + 'check_project_private'\n",
    "    r_check_project_private = s.get(\n",
    "        url_check_project_private, params=check_repo_payload, headers=new_headers)\n",
    "    r_check_project_private.json()"
   ]
  },
  {
   "cell_type": "code",
   "execution_count": 13,
   "metadata": {},
   "outputs": [],
   "source": [
    "def params(repo, username, token, import_url):\n",
    "    return {\n",
    "      'utf8': '✓',\n",
    "      'authenticity_token': token,\n",
    "      'project[import_url]': import_url,\n",
    "      'password_sync_code': '',\n",
    "      'project[name]': repo,\n",
    "      'project[namespace_path]': username,\n",
    "      'project[path]': repo,\n",
    "      'project[description]': '',\n",
    "      'project[public]': '1'\n",
    "    }"
   ]
  },
  {
   "cell_type": "code",
   "execution_count": 14,
   "metadata": {},
   "outputs": [],
   "source": [
    "import_github_project = True\n",
    "\n",
    "if import_github_project:\n",
    "    new_headers = headers.copy()\n",
    "    new_headers['X-CSRF-Token'] = token\n",
    "    try:\n",
    "        del new_headers['Upgrade-Insecure-Requests']\n",
    "        del new_headers['DNT']\n",
    "    except Exception as e:\n",
    "        print(e)\n",
    "\n",
    "    import_project_url = base_url + username + '/projects'\n",
    "    import_payload = params(\n",
    "        'git2gitee', 'mikele', token, repo_url)\n",
    "\n",
    "    r_import = s.post(import_project_url, data=import_payload, headers=new_headers)"
   ]
  },
  {
   "cell_type": "code",
   "execution_count": 17,
   "metadata": {},
   "outputs": [
    {
     "name": "stdout",
     "output_type": "stream",
     "text": [
      "导入成功\n"
     ]
    }
   ],
   "source": [
    "if r_import.status_code == requests.codes.ok:\n",
    "    print('导入成功')"
   ]
  }
 ],
 "metadata": {
  "kernelspec": {
   "display_name": "Python 3",
   "language": "python",
   "name": "python3"
  },
  "language_info": {
   "codemirror_mode": {
    "name": "ipython",
    "version": 3
   },
   "file_extension": ".py",
   "mimetype": "text/x-python",
   "name": "python",
   "nbconvert_exporter": "python",
   "pygments_lexer": "ipython3",
   "version": "3.6.8"
  }
 },
 "nbformat": 4,
 "nbformat_minor": 2
}
